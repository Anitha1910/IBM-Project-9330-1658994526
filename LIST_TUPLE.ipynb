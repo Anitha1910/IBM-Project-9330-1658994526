{
  "nbformat": 4,
  "nbformat_minor": 0,
  "metadata": {
    "colab": {
      "provenance": [],
      "authorship_tag": "ABX9TyNTQJfIvTIe1UdTe2jKp6AW",
      "include_colab_link": true
    },
    "kernelspec": {
      "name": "python3",
      "display_name": "Python 3"
    },
    "language_info": {
      "name": "python"
    }
  },
  "cells": [
    {
      "cell_type": "markdown",
      "metadata": {
        "id": "view-in-github",
        "colab_type": "text"
      },
      "source": [
        "<a href=\"https://colab.research.google.com/github/IBM-EPBL/IBM-Project-9330-1658994526/blob/main/LIST_TUPLE.ipynb\" target=\"_parent\"><img src=\"https://colab.research.google.com/assets/colab-badge.svg\" alt=\"Open In Colab\"/></a>"
      ]
    },
    {
      "cell_type": "code",
      "metadata": {
        "id": "ZJ_TG9hQAaa-"
      },
      "source": [
        "mylist=['spam',2.34,100,'Robo']\n",
        "type(mylist)"
      ],
      "execution_count": null,
      "outputs": []
    },
    {
      "cell_type": "code",
      "metadata": {
        "colab": {
          "base_uri": "https://localhost:8080/"
        },
        "id": "EPQQJmoUBimW",
        "outputId": "87619272-1804-440d-bd46-07190cd44fdf"
      },
      "source": [
        "mylist=['spam',2.34,100,'Robo']\n",
        "mylist[-3]"
      ],
      "execution_count": 2,
      "outputs": [
        {
          "output_type": "execute_result",
          "data": {
            "text/plain": [
              "2.34"
            ]
          },
          "metadata": {},
          "execution_count": 2
        }
      ]
    },
    {
      "cell_type": "code",
      "metadata": {
        "id": "Yl3ADjOuB_ZU"
      },
      "source": [
        "double_mylist=['spam',['vivek','anitha'],2.34,100,'Robo']\n",
        "double_mylist[1][1]"
      ],
      "execution_count": null,
      "outputs": []
    },
    {
      "cell_type": "code",
      "metadata": {
        "colab": {
          "base_uri": "https://localhost:8080/"
        },
        "id": "rlXaHQwLCjhE",
        "outputId": "c911a1b7-6b93-432d-a863-2ce770faacd0"
      },
      "source": [
        "double_mylist=['spam',['vivek','anitha'],2.34,100,'Robo']\n",
        "double_mylist.append('abarna')\n",
        "double_mylist.insert(1,'kala')\n",
        "del double_mylist[3]\n",
        "print(double_mylist)"
      ],
      "execution_count": 4,
      "outputs": [
        {
          "output_type": "stream",
          "name": "stdout",
          "text": [
            "['spam', 'kala', ['vivek', 'anitha'], 100, 'Robo', 'abarna']\n"
          ]
        }
      ]
    },
    {
      "cell_type": "code",
      "metadata": {
        "id": "4rDwBswjDMTO"
      },
      "source": [
        "even = [0,2,4,6,8,10,12,14,16,18,20]\n",
        "odd = [1,3,5,7,9,11,13,15,17,19]\n",
        "even[::4]"
      ],
      "execution_count": null,
      "outputs": []
    },
    {
      "cell_type": "code",
      "metadata": {
        "colab": {
          "base_uri": "https://localhost:8080/"
        },
        "id": "2vXAgq_XELpP",
        "outputId": "f5a73fef-a0ed-45e4-8c5a-4b3db1fc892a"
      },
      "source": [
        "a=[9,3,4,7,1,3,6]\n",
        "a.sort()\n",
        "print(a)"
      ],
      "execution_count": 6,
      "outputs": [
        {
          "output_type": "stream",
          "name": "stdout",
          "text": [
            "[1, 3, 3, 4, 6, 7, 9]\n"
          ]
        }
      ]
    },
    {
      "cell_type": "code",
      "metadata": {
        "id": "foPWvwLyEYAu"
      },
      "source": [
        "a=[9,3,4,7,1,3,6]\n",
        "a.sort()\n",
        "a.reverse()\n",
        "print(a)"
      ],
      "execution_count": null,
      "outputs": []
    },
    {
      "cell_type": "code",
      "metadata": {
        "colab": {
          "base_uri": "https://localhost:8080/"
        },
        "id": "JwMYBRW3FLfn",
        "outputId": "66e1b4b2-5e68-455e-ffd2-f8603f33f0cd"
      },
      "source": [
        "t=(1,26,'odd',2.34,45,67,'red')\n",
        "s=(1,2,3)\n",
        "s,t=t,s\n",
        "print(t)\n",
        "print(s)"
      ],
      "execution_count": 8,
      "outputs": [
        {
          "output_type": "stream",
          "name": "stdout",
          "text": [
            "(1, 2, 3)\n",
            "(1, 26, 'odd', 2.34, 45, 67, 'red')\n"
          ]
        }
      ]
    },
    {
      "cell_type": "code",
      "metadata": {
        "id": "Y-XjbSaiF3wd"
      },
      "source": [
        "set_list = [1,2,3,4,5,6,7,8,9,10]\n",
        "print(set_list)\n",
        "print(set(set_list))\n"
      ],
      "execution_count": null,
      "outputs": []
    },
    {
      "cell_type": "code",
      "metadata": {
        "colab": {
          "base_uri": "https://localhost:8080/"
        },
        "id": "X0iMUr0GGkq2",
        "outputId": "77ba2ae8-5262-43ea-b73d-853c68a75f54"
      },
      "source": [
        "set_list = set([1,2,3,4,5,6,7,8,9,10])\n",
        "set_list.add(11)\n",
        "print(set_list)\n",
        "set_list.remove(2)\n",
        "#list.remove or list.pop is used to remove\n",
        "print(set_list)"
      ],
      "execution_count": 10,
      "outputs": [
        {
          "output_type": "stream",
          "name": "stdout",
          "text": [
            "{1, 2, 3, 4, 5, 6, 7, 8, 9, 10, 11}\n",
            "{1, 3, 4, 5, 6, 7, 8, 9, 10, 11}\n"
          ]
        }
      ]
    },
    {
      "cell_type": "code",
      "metadata": {
        "id": "lAwyL2N-G4eW"
      },
      "source": [
        "even = set([0,2,4,6,8,10,12,14,16,18,20])\n",
        "odd = set([1,3,5,7,9,11,13,15,17,19])\n",
        "print(even|odd)\n",
        "#or even.union(odd) function can be used"
      ],
      "execution_count": null,
      "outputs": []
    },
    {
      "cell_type": "code",
      "metadata": {
        "id": "PXbMMo0fHoWw"
      },
      "source": [
        "import numpy as np\n",
        "import matplotlib.pyplot as plt\n",
        "x = np.linspace(1,20,50)\n",
        "plt.plot(x,np.cos(x))"
      ],
      "execution_count": null,
      "outputs": []
    },
    {
      "cell_type": "code",
      "metadata": {
        "id": "3bOkeabgKLzj"
      },
      "source": [
        "dict={'alice':1,'anitha':2}"
      ],
      "execution_count": 13,
      "outputs": []
    }
  ]
}